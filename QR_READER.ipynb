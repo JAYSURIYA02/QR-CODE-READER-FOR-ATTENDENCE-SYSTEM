{
 "cells": [
  {
   "cell_type": "code",
   "execution_count": 3,
   "id": "26920b7a-524d-4682-90ef-be1fef65a465",
   "metadata": {},
   "outputs": [
    {
     "name": "stdout",
     "output_type": "stream",
     "text": [
      "Collecting pyzbar\n",
      "  Using cached pyzbar-0.1.9-py2.py3-none-win_amd64.whl.metadata (10 kB)\n",
      "Using cached pyzbar-0.1.9-py2.py3-none-win_amd64.whl (817 kB)\n",
      "Installing collected packages: pyzbar\n",
      "Successfully installed pyzbar-0.1.9\n",
      "Note: you may need to restart the kernel to use updated packages.\n"
     ]
    },
    {
     "name": "stderr",
     "output_type": "stream",
     "text": [
      "  WARNING: The script read_zbar.exe is installed in 'C:\\Users\\jaysu\\anaconda3\\envs\\myproject\\Scripts' which is not on PATH.\n",
      "  Consider adding this directory to PATH or, if you prefer to suppress this warning, use --no-warn-script-location.\n"
     ]
    }
   ],
   "source": [
    "pip install pyzbar"
   ]
  },
  {
   "cell_type": "code",
   "execution_count": 5,
   "id": "fae12248-815d-42b3-9762-eb6694ff8911",
   "metadata": {},
   "outputs": [
    {
     "ename": "TypeError",
     "evalue": "cannot unpack non-iterable NoneType object",
     "output_type": "error",
     "traceback": [
      "\u001b[31m---------------------------------------------------------------------------\u001b[39m",
      "\u001b[31mTypeError\u001b[39m                                 Traceback (most recent call last)",
      "\u001b[36mCell\u001b[39m\u001b[36m \u001b[39m\u001b[32mIn[5]\u001b[39m\u001b[32m, line 9\u001b[39m\n\u001b[32m      6\u001b[39m \u001b[38;5;28;01mimport\u001b[39;00m\u001b[38;5;250m \u001b[39m\u001b[34;01mnumpy\u001b[39;00m\u001b[38;5;250m \u001b[39m\u001b[38;5;28;01mas\u001b[39;00m\u001b[38;5;250m \u001b[39m\u001b[34;01mnp\u001b[39;00m\n\u001b[32m      8\u001b[39m img = cv2.imread(\u001b[33m'\u001b[39m\u001b[33mJAY.png\u001b[39m\u001b[33m'\u001b[39m)\n\u001b[32m----> \u001b[39m\u001b[32m9\u001b[39m detectedBarcodes = \u001b[43mdecode\u001b[49m\u001b[43m(\u001b[49m\u001b[43mimg\u001b[49m\u001b[43m)\u001b[49m\n\u001b[32m     10\u001b[39m \u001b[38;5;28;01mif\u001b[39;00m detectedBarcodes:\n\u001b[32m     11\u001b[39m     \u001b[38;5;28;01mfor\u001b[39;00m barcode \u001b[38;5;129;01min\u001b[39;00m detectedBarcodes:\n",
      "\u001b[36mFile \u001b[39m\u001b[32m~\\anaconda3\\envs\\myproject\\Lib\\site-packages\\pyzbar\\pyzbar.py:207\u001b[39m, in \u001b[36mdecode\u001b[39m\u001b[34m(image, symbols)\u001b[39m\n\u001b[32m    196\u001b[39m \u001b[38;5;28;01mdef\u001b[39;00m\u001b[38;5;250m \u001b[39m\u001b[34mdecode\u001b[39m(image, symbols=\u001b[38;5;28;01mNone\u001b[39;00m):\n\u001b[32m    197\u001b[39m \u001b[38;5;250m    \u001b[39m\u001b[33;03m\"\"\"Decodes datamatrix barcodes in `image`.\u001b[39;00m\n\u001b[32m    198\u001b[39m \n\u001b[32m    199\u001b[39m \u001b[33;03m    Args:\u001b[39;00m\n\u001b[32m   (...)\u001b[39m\u001b[32m    205\u001b[39m \u001b[33;03m        :obj:`list` of :obj:`Decoded`: The values decoded from barcodes.\u001b[39;00m\n\u001b[32m    206\u001b[39m \u001b[33;03m    \"\"\"\u001b[39;00m\n\u001b[32m--> \u001b[39m\u001b[32m207\u001b[39m     pixels, width, height = \u001b[43m_pixel_data\u001b[49m\u001b[43m(\u001b[49m\u001b[43mimage\u001b[49m\u001b[43m)\u001b[49m\n\u001b[32m    209\u001b[39m     results = []\n\u001b[32m    210\u001b[39m     \u001b[38;5;28;01mwith\u001b[39;00m _image_scanner() \u001b[38;5;28;01mas\u001b[39;00m scanner:\n",
      "\u001b[36mFile \u001b[39m\u001b[32m~\\anaconda3\\envs\\myproject\\Lib\\site-packages\\pyzbar\\pyzbar.py:173\u001b[39m, in \u001b[36m_pixel_data\u001b[39m\u001b[34m(image)\u001b[39m\n\u001b[32m    170\u001b[39m     height, width = image.shape[:\u001b[32m2\u001b[39m]\n\u001b[32m    171\u001b[39m \u001b[38;5;28;01melse\u001b[39;00m:\n\u001b[32m    172\u001b[39m     \u001b[38;5;66;03m# image should be a tuple (pixels, width, height)\u001b[39;00m\n\u001b[32m--> \u001b[39m\u001b[32m173\u001b[39m     pixels, width, height = image\n\u001b[32m    175\u001b[39m     \u001b[38;5;66;03m# Check dimensions\u001b[39;00m\n\u001b[32m    176\u001b[39m     \u001b[38;5;28;01mif\u001b[39;00m \u001b[32m0\u001b[39m != \u001b[38;5;28mlen\u001b[39m(pixels) % (width * height):\n",
      "\u001b[31mTypeError\u001b[39m: cannot unpack non-iterable NoneType object"
     ]
    }
   ],
   "source": [
    "import os\n",
    "\n",
    "import cv2\n",
    "from pyzbar.pyzbar import decode\n",
    "import matplotlib.pyplot as plt\n",
    "import numpy as np\n",
    "\n",
    "img = cv2.imread('JAY.png')\n",
    "detectedBarcodes = decode(img)\n",
    "if detectedBarcodes:\n",
    "    for barcode in detectedBarcodes:\n",
    "        text = barcode.text\n",
    "        rect = barcode.rect\n",
    "        poly = barcode.polygon\n",
    "        print(\"Decoded Data: \", text)\n",
    "        print(\"Rect: \", rect)\n",
    "        print(\"Polygon: \", poly)"
   ]
  },
  {
   "cell_type": "code",
   "execution_count": null,
   "id": "17990ed1-2d38-4cf3-82c3-c57380ec0dc2",
   "metadata": {},
   "outputs": [],
   "source": []
  }
 ],
 "metadata": {
  "kernelspec": {
   "display_name": "Python (myproject)",
   "language": "python",
   "name": "myproject"
  },
  "language_info": {
   "codemirror_mode": {
    "name": "ipython",
    "version": 3
   },
   "file_extension": ".py",
   "mimetype": "text/x-python",
   "name": "python",
   "nbconvert_exporter": "python",
   "pygments_lexer": "ipython3",
   "version": "3.11.13"
  }
 },
 "nbformat": 4,
 "nbformat_minor": 5
}
